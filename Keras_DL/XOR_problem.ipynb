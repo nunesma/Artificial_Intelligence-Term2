{
  "nbformat": 4,
  "nbformat_minor": 0,
  "metadata": {
    "colab": {
      "name": "XOR_problem",
      "version": "0.3.2",
      "provenance": [],
      "collapsed_sections": []
    }
  },
  "cells": [
    {
      "metadata": {
        "id": "G4dHPZBSROCX",
        "colab_type": "text"
      },
      "cell_type": "markdown",
      "source": [
        "# XOR problem"
      ]
    },
    {
      "metadata": {
        "id": "tjUu9uW4RYvA",
        "colab_type": "text"
      },
      "cell_type": "markdown",
      "source": [
        "Build a simple multi-layer feedforward neural network to solve the XOR problem.\n",
        "- Set the first layer to a Dense() layer with an output width of 8 nodes and the input_dim set to the size of the training samples (in this case 2).\n",
        "- Add a tanh activation function.\n",
        "- Set the output layer width to 1, since the output has only two classes. (We can use 0 for one class and 1 for the other)\n",
        "- Use a sigmoid activation function after the output layer.\n",
        "- Run the model for 50 epochs."
      ]
    },
    {
      "metadata": {
        "id": "JqkeYDVYRGtD",
        "colab_type": "code",
        "colab": {
          "base_uri": "https://localhost:8080/",
          "height": 34
        },
        "outputId": "132dfc6c-bc04-429b-ed6e-b9cba039b9f0"
      },
      "cell_type": "code",
      "source": [
        "import numpy as np\n",
        "from keras.utils import np_utils\n",
        "import tensorflow as tf"
      ],
      "execution_count": 1,
      "outputs": [
        {
          "output_type": "stream",
          "text": [
            "Using TensorFlow backend.\n"
          ],
          "name": "stderr"
        }
      ]
    },
    {
      "metadata": {
        "id": "A8j4lSy-VA7k",
        "colab_type": "code",
        "colab": {}
      },
      "cell_type": "code",
      "source": [
        "tf.control_flow_ops = tf"
      ],
      "execution_count": 0,
      "outputs": []
    },
    {
      "metadata": {
        "id": "xfUvvvnfVKrY",
        "colab_type": "code",
        "colab": {}
      },
      "cell_type": "code",
      "source": [
        "# set random seed\n",
        "np.random.seed(42)"
      ],
      "execution_count": 0,
      "outputs": []
    },
    {
      "metadata": {
        "id": "OnGGlY-tVbJt",
        "colab_type": "code",
        "colab": {}
      },
      "cell_type": "code",
      "source": [
        "# data\n",
        "X = np.array([[0,0], [0,1], [1,0], [1,1]]).astype('float32')\n",
        "y = np.array([[0], [1], [1], [0]]).astype('float32')"
      ],
      "execution_count": 0,
      "outputs": []
    },
    {
      "metadata": {
        "id": "-Bon_xI_WNuQ",
        "colab_type": "code",
        "colab": {}
      },
      "cell_type": "code",
      "source": [
        "# set up for keras\n",
        "from keras.models import Sequential\n",
        "from keras.layers.core import Dense, Activation"
      ],
      "execution_count": 0,
      "outputs": []
    },
    {
      "metadata": {
        "id": "XUWk1qUDWhmO",
        "colab_type": "code",
        "colab": {}
      },
      "cell_type": "code",
      "source": [
        "# building the model\n",
        "xor = Sequential()"
      ],
      "execution_count": 0,
      "outputs": []
    },
    {
      "metadata": {
        "id": "8D5wVh1RiJ84",
        "colab_type": "code",
        "colab": {}
      },
      "cell_type": "code",
      "source": [
        "# add required layers\n",
        "xor.add(Dense(8, input_dim = X.shape[1]))\n",
        "xor.add(Activation('tanh'))\n",
        "xor.add(Dense(1))\n",
        "xor.add(Activation('sigmoid'))"
      ],
      "execution_count": 0,
      "outputs": []
    },
    {
      "metadata": {
        "id": "rXyZm7tmjAXo",
        "colab_type": "code",
        "colab": {}
      },
      "cell_type": "code",
      "source": [
        "# specifying loss, optimizer and metric\n",
        "xor.compile(loss = 'binary_crossentropy', optimizer = 'adam', metrics = ['accuracy'])"
      ],
      "execution_count": 0,
      "outputs": []
    },
    {
      "metadata": {
        "id": "5ttdsSlRjleZ",
        "colab_type": "code",
        "colab": {
          "base_uri": "https://localhost:8080/",
          "height": 272
        },
        "outputId": "75134334-bcdd-484a-8231-0494dfb3ede6"
      },
      "cell_type": "code",
      "source": [
        "xor.summary()"
      ],
      "execution_count": 9,
      "outputs": [
        {
          "output_type": "stream",
          "text": [
            "_________________________________________________________________\n",
            "Layer (type)                 Output Shape              Param #   \n",
            "=================================================================\n",
            "dense_1 (Dense)              (None, 8)                 24        \n",
            "_________________________________________________________________\n",
            "activation_1 (Activation)    (None, 8)                 0         \n",
            "_________________________________________________________________\n",
            "dense_2 (Dense)              (None, 1)                 9         \n",
            "_________________________________________________________________\n",
            "activation_2 (Activation)    (None, 1)                 0         \n",
            "=================================================================\n",
            "Total params: 33\n",
            "Trainable params: 33\n",
            "Non-trainable params: 0\n",
            "_________________________________________________________________\n"
          ],
          "name": "stdout"
        }
      ]
    },
    {
      "metadata": {
        "id": "--yY3ayRjrA4",
        "colab_type": "code",
        "colab": {
          "base_uri": "https://localhost:8080/",
          "height": 51
        },
        "outputId": "58e46b35-d63c-479d-dccd-3dde1a2ad611"
      },
      "cell_type": "code",
      "source": [
        "# fitting the model\n",
        "history = xor.fit(X, y, nb_epoch = 50, verbose = 0)"
      ],
      "execution_count": 10,
      "outputs": [
        {
          "output_type": "stream",
          "text": [
            "/usr/local/lib/python2.7/dist-packages/keras/models.py:981: UserWarning: The `nb_epoch` argument in `fit` has been renamed `epochs`.\n",
            "  warnings.warn('The `nb_epoch` argument in `fit` '\n"
          ],
          "name": "stderr"
        }
      ]
    },
    {
      "metadata": {
        "id": "If0wsob_j57D",
        "colab_type": "code",
        "colab": {
          "base_uri": "https://localhost:8080/",
          "height": 51
        },
        "outputId": "4bedec19-345e-4a64-d65b-a7b853f42b71"
      },
      "cell_type": "code",
      "source": [
        "# scoring the model\n",
        "score = xor.evaluate(X, y)\n",
        "print(\"\\nAccuracy: \", score[-1])"
      ],
      "execution_count": 11,
      "outputs": [
        {
          "output_type": "stream",
          "text": [
            "\r4/4 [==============================] - 0s 6ms/step\n",
            "('\\nAccuracy: ', 0.5)\n"
          ],
          "name": "stdout"
        }
      ]
    },
    {
      "metadata": {
        "id": "_8m9B6XSkaRf",
        "colab_type": "code",
        "colab": {
          "base_uri": "https://localhost:8080/",
          "height": 119
        },
        "outputId": "9f463b94-5e91-40a5-ded4-95b77b621301"
      },
      "cell_type": "code",
      "source": [
        "# checking the predictions\n",
        "print(\"\\nPredictions: \")\n",
        "print(xor.predict_proba(X))"
      ],
      "execution_count": 12,
      "outputs": [
        {
          "output_type": "stream",
          "text": [
            "\n",
            "Predictions: \n",
            "[[0.51922685]\n",
            " [0.5418171 ]\n",
            " [0.46532038]\n",
            " [0.4779705 ]]\n"
          ],
          "name": "stdout"
        }
      ]
    }
  ]
}